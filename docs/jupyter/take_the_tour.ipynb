{
 "cells": [
  {
   "attachments": {},
   "cell_type": "markdown",
   "metadata": {},
   "source": [
    "# Take the Tour\n",
    "\n",
    "_(The tour is auto-generated from \n",
    "[this jupyter notebook](https://github.com/mar10/nutree/blob/main/docs/jupyter/take_the_tour.ipynb).)_"
   ]
  },
  {
   "cell_type": "markdown",
   "metadata": {},
   "source": [
    "Nutree organizes arbitrary object instances in an unobtrusive way. <br>\n",
    "That means, we can add existing objects without having to derive from a common \n",
    "base class or implement a specific protocol."
   ]
  },
  {
   "cell_type": "code",
   "execution_count": 425,
   "metadata": {},
   "outputs": [
    {
     "name": "stdout",
     "output_type": "stream",
     "text": [
      "Tree<'Hello'>\n",
      "├── 'N'\n",
      "│   ╰── 'u'\n",
      "╰── 'T'\n",
      "    ├── 'r'\n",
      "    ╰── 'ee'\n"
     ]
    }
   ],
   "source": [
    "from nutree import Tree\n",
    "\n",
    "tree = Tree(\"Hello\")\n",
    "tree.add(\"N\").add(\"u\").up(2).add(\"T\").add(\"r\").up().add(\"ee\")\n",
    "tree.print()"
   ]
  },
  {
   "cell_type": "markdown",
   "metadata": {},
   "source": [
    "Strings can be directly added to a tree, but in a real-world scenario we want to \n",
    "handle ordinary objects:"
   ]
  },
  {
   "cell_type": "markdown",
   "metadata": {
    "slideshow": {
     "slide_type": "slide"
    }
   },
   "source": [
    "## Setup some sample classes and objects\n",
    "Let's define a simple class hierarchy"
   ]
  },
  {
   "cell_type": "code",
   "execution_count": 426,
   "metadata": {},
   "outputs": [],
   "source": [
    "import uuid\n",
    "\n",
    "\n",
    "class Department:\n",
    "    def __init__(self, name: str):\n",
    "        self.guid = uuid.uuid4()\n",
    "        self.name = name\n",
    "\n",
    "    def __str__(self):\n",
    "        return f\"Department<{self.name}>\"\n",
    "\n",
    "\n",
    "class Person:\n",
    "    def __init__(self, name: str, age: int):\n",
    "        self.guid = uuid.uuid4()\n",
    "        self.name = name\n",
    "        self.age = age\n",
    "\n",
    "    def __str__(self):\n",
    "        return f\"Person<{self.name} ({self.age})>\""
   ]
  },
  {
   "cell_type": "markdown",
   "metadata": {},
   "source": [
    "and create some instances"
   ]
  },
  {
   "cell_type": "code",
   "execution_count": 427,
   "metadata": {},
   "outputs": [],
   "source": [
    "development_dep = Department(\"Development\")\n",
    "test__dep = Department(\"Test\")\n",
    "marketing_dep = Department(\"Marketing\")\n",
    "\n",
    "alice = Person(\"Alice\", 25)\n",
    "bob = Person(\"Bob\", 35)\n",
    "claire = Person(\"Claire\", 45)\n",
    "dave = Person(\"Dave\", 55)"
   ]
  },
  {
   "attachments": {},
   "cell_type": "markdown",
   "metadata": {
    "slideshow": {
     "slide_type": "slide"
    }
   },
   "source": [
    "Now that we have a bunch of instances, let's organize these objects in a \n",
    "hierarchical structure using _nutree_:"
   ]
  },
  {
   "cell_type": "code",
   "execution_count": 428,
   "metadata": {},
   "outputs": [
    {
     "name": "stdout",
     "output_type": "stream",
     "text": [
      "Tree<'Organization'>\n",
      "├── <__main__.Department object at 0x105356690>\n",
      "│   ├── <__main__.Department object at 0x105356390>\n",
      "│   │   ╰── <__main__.Person object at 0x10503c8c0>\n",
      "│   ╰── <__main__.Person object at 0x10503d700>\n",
      "├── <__main__.Department object at 0x10503dc70>\n",
      "│   ╰── <__main__.Person object at 0x10503d430>\n",
      "╰── <__main__.Person object at 0x10503d6a0>\n"
     ]
    }
   ],
   "source": [
    "from nutree import Tree\n",
    "\n",
    "tree = Tree(\"Organization\")\n",
    "\n",
    "dev_node = tree.add(development_dep)\n",
    "test_node = dev_node.add(test__dep)\n",
    "mkt_node = tree.add(marketing_dep)\n",
    "\n",
    "tree.add(alice)\n",
    "dev_node.add(bob)\n",
    "test_node.add(claire)\n",
    "mkt_node.add(dave)\n",
    "\n",
    "tree.print()"
   ]
  },
  {
   "cell_type": "markdown",
   "metadata": {},
   "source": [
    "Tree nodes store a reference to the object in the `node.data` attribute.\n",
    "\n",
    "The nodes are formatted for display by the object's  `__repr__` implementation \n",
    "by default. <br>\n",
    "We can overide this by passing an \n",
    "[f-string](https://docs.python.org/3/tutorial/inputoutput.html#formatted-string-literals) \n",
    "as `repr` argument. <br>\n",
    "For example `\"{node.data}\"` will use the data instances `__str__` method instead:"
   ]
  },
  {
   "cell_type": "code",
   "execution_count": 429,
   "metadata": {},
   "outputs": [
    {
     "name": "stdout",
     "output_type": "stream",
     "text": [
      "Tree<'Organization'>\n",
      "├── Department<Development>\n",
      "│   ├── Department<Test>\n",
      "│   │   ╰── Person<Claire (45)>\n",
      "│   ╰── Person<Bob (35)>\n",
      "├── Department<Marketing>\n",
      "│   ╰── Person<Dave (55)>\n",
      "╰── Person<Alice (25)>\n"
     ]
    }
   ],
   "source": [
    "tree.print(repr=\"{node.data}\")"
   ]
  },
  {
   "cell_type": "markdown",
   "metadata": {},
   "source": [
    "## Access Nodes\n",
    "We can use the index syntax to get the node object for a given data object:"
   ]
  },
  {
   "cell_type": "code",
   "execution_count": null,
   "metadata": {},
   "outputs": [
    {
     "data": {
      "text/plain": [
       "Node<'Person<Alice (25)>', data_id=273694058>"
      ]
     },
     "execution_count": 430,
     "metadata": {},
     "output_type": "execute_result"
    }
   ],
   "source": [
    "tree[alice]"
   ]
  },
  {
   "cell_type": "markdown",
   "metadata": {},
   "source": [
    "Note that we passed `alice` as index, which is an instance of `Person`, and received an instance of the `Node` container:"
   ]
  },
  {
   "cell_type": "code",
   "execution_count": 431,
   "metadata": {},
   "outputs": [],
   "source": [
    "from nutree import Node\n",
    "\n",
    "assert isinstance(tree[alice], Node)\n",
    "assert tree[alice].data is alice, \"nodes store objects in data attribute\""
   ]
  },
  {
   "cell_type": "markdown",
   "metadata": {},
   "source": [
    "There are other other search methods as well"
   ]
  },
  {
   "cell_type": "code",
   "execution_count": 432,
   "metadata": {},
   "outputs": [
    {
     "data": {
      "text/plain": [
       "[]"
      ]
     },
     "execution_count": 432,
     "metadata": {},
     "output_type": "execute_result"
    }
   ],
   "source": [
    "tree.find_all(lambda node: \"i\" in str(node.data))"
   ]
  },
  {
   "cell_type": "markdown",
   "metadata": {},
   "source": [
    "### Control the `data_id`\n",
    "\n",
    "If the object instances have a natural attribute that identifies them, we can use\n",
    "it instead of the default `hash()`. <br>\n",
    "This improves readability and helps to (de)serialize:"
   ]
  },
  {
   "cell_type": "code",
   "execution_count": 433,
   "metadata": {},
   "outputs": [
    {
     "name": "stdout",
     "output_type": "stream",
     "text": [
      "Tree<'Organization'>\n",
      "╰── Node<'Department<Development>', data_id=866c7479-c7ea-4702-aa32-88d380089c3c>\n",
      "    ╰── Node<'Person<Bob (35)>', data_id=6d082e20-ff9e-44cd-afe7-8669cf0f8eec>\n"
     ]
    }
   ],
   "source": [
    "tree_2 = Tree(\"Organization\", calc_data_id=lambda tree, data: str(data.guid))\n",
    "dep_node_2 = tree_2.add(development_dep)\n",
    "dep_node_2.add(bob)\n",
    "tree_2.print(repr=\"{node}\")"
   ]
  },
  {
   "cell_type": "markdown",
   "metadata": {},
   "source": [
    "now we could also search by the guid, for example"
   ]
  },
  {
   "cell_type": "code",
   "execution_count": 434,
   "metadata": {},
   "outputs": [
    {
     "data": {
      "text/plain": [
       "Node<'Person<Bob (35)>', data_id=6d082e20-ff9e-44cd-afe7-8669cf0f8eec>"
      ]
     },
     "execution_count": 434,
     "metadata": {},
     "output_type": "execute_result"
    }
   ],
   "source": [
    "tree_2.find(data_id=str(bob.guid))"
   ]
  },
  {
   "cell_type": "markdown",
   "metadata": {},
   "source": [
    "## Iteration and Searching\n",
    "\n",
    "There are multiple methods to iterate the tree."
   ]
  },
  {
   "cell_type": "code",
   "execution_count": 435,
   "metadata": {},
   "outputs": [
    {
     "name": "stdout",
     "output_type": "stream",
     "text": [
      "['Development', 'Test', 'Claire', 'Bob', 'Marketing', 'Dave', 'Alice']\n"
     ]
    }
   ],
   "source": [
    "res = []\n",
    "for node in tree:  # depth-first, pre-orde traversal\n",
    "    res.append(node.data.name)\n",
    "print(res)"
   ]
  },
  {
   "cell_type": "code",
   "execution_count": 436,
   "metadata": {},
   "outputs": [
    {
     "name": "stdout",
     "output_type": "stream",
     "text": [
      "['Claire', 'Test', 'Bob', 'Development', 'Dave', 'Marketing', 'Alice']\n"
     ]
    }
   ],
   "source": [
    "from nutree import IterMethod\n",
    "\n",
    "res = []\n",
    "for node in tree.iterator(method=IterMethod.POST_ORDER):\n",
    "    res.append(node.data.name)\n",
    "print(res)"
   ]
  },
  {
   "cell_type": "code",
   "execution_count": 437,
   "metadata": {},
   "outputs": [
    {
     "name": "stdout",
     "output_type": "stream",
     "text": [
      "Development\n",
      "Marketing\n",
      "Alice\n",
      "Test\n",
      "Bob\n",
      "Dave\n",
      "Claire\n"
     ]
    }
   ],
   "source": [
    "tree.visit(lambda node, memo: print(node.data.name), method=IterMethod.LEVEL_ORDER)"
   ]
  },
  {
   "cell_type": "markdown",
   "metadata": {},
   "source": [
    "The above traversal methods are also available for single nodes:"
   ]
  },
  {
   "cell_type": "code",
   "execution_count": 438,
   "metadata": {},
   "outputs": [
    {
     "name": "stdout",
     "output_type": "stream",
     "text": [
      "['Test', 'Claire', 'Bob']\n"
     ]
    }
   ],
   "source": [
    "res = [node.data.name for node in dev_node]\n",
    "print(res)"
   ]
  },
  {
   "cell_type": "markdown",
   "metadata": {},
   "source": [
    "## Filter"
   ]
  },
  {
   "cell_type": "code",
   "execution_count": 439,
   "metadata": {},
   "outputs": [
    {
     "name": "stdout",
     "output_type": "stream",
     "text": [
      "Tree<\"Copy of Tree<'Organization'>\">\n",
      "├── Node<'Department<Development>', data_id=273897065>\n",
      "│   ╰── Node<'Department<Test>', data_id=273897017>\n",
      "╰── Node<'Department<Marketing>', data_id=273694151>\n"
     ]
    }
   ],
   "source": [
    "tree_copy = tree.copy(predicate=lambda node: isinstance(node.data, Department))\n",
    "tree_copy.print(repr=\"{node}\")"
   ]
  },
  {
   "cell_type": "markdown",
   "metadata": {},
   "source": [
    "## Mutation"
   ]
  },
  {
   "cell_type": "code",
   "execution_count": 440,
   "metadata": {},
   "outputs": [
    {
     "name": "stdout",
     "output_type": "stream",
     "text": [
      "Tree<'Organization'>\n",
      "├── <__main__.Department object at 0x105356690>\n",
      "│   ├── <__main__.Department object at 0x105356390>\n",
      "│   │   ╰── <__main__.Person object at 0x10503c8c0>\n",
      "│   ╰── <__main__.Person object at 0x10503d700>\n",
      "├── <__main__.Department object at 0x10503dc70>\n",
      "│   ╰── <__main__.Person object at 0x10503d430>\n",
      "╰── <__main__.Person object at 0x10503d6a0>\n"
     ]
    }
   ],
   "source": [
    "bob_node = tree[bob]\n",
    "# bob_node.move_to(marketing_dep_node)\n",
    "tree.print()"
   ]
  },
  {
   "cell_type": "markdown",
   "metadata": {},
   "source": [
    "## Data IDs and Clones"
   ]
  },
  {
   "cell_type": "code",
   "execution_count": 441,
   "metadata": {},
   "outputs": [
    {
     "name": "stdout",
     "output_type": "stream",
     "text": [
      "Node<'Department<Development>', data_id=273897065>\n",
      "├── Node<'Department<Test>', data_id=273897017>\n",
      "│   ╰── Node<'Person<Claire (45)>', data_id=273693836>\n",
      "╰── Node<'Person<Bob (35)>', data_id=273694064>\n",
      "Node<'Department<Marketing>', data_id=273694151>\n",
      "╰── Node<'Person<Dave (55)>', data_id=273694019>\n",
      "Node<'Person<Alice (25)>', data_id=273694058>\n"
     ]
    }
   ],
   "source": [
    "tree.print(repr=\"{node}\", title=False)"
   ]
  },
  {
   "cell_type": "markdown",
   "metadata": {},
   "source": [
    "## Special Data Types\n",
    "### Plain Strings\n",
    "\n",
    "We can add simple string objects the same way as any other object"
   ]
  },
  {
   "cell_type": "code",
   "execution_count": 442,
   "metadata": {},
   "outputs": [
    {
     "name": "stdout",
     "output_type": "stream",
     "text": [
      "Tree<'4379102432'>\n",
      "├── 'A'\n",
      "│   ├── 'a1'\n",
      "│   ╰── 'a2'\n",
      "╰── 'B'\n"
     ]
    }
   ],
   "source": [
    "tree_str = Tree()\n",
    "a = tree_str.add(\"A\")\n",
    "a.add(\"a1\")\n",
    "a.add(\"a2\")\n",
    "tree_str.add(\"B\")\n",
    "tree_str.print()"
   ]
  },
  {
   "cell_type": "markdown",
   "metadata": {},
   "source": [
    "### Dictionaries\n",
    "\n",
    "We cannot add Python `dict` objects to a tree, because nutree cannot derive\n",
    "a *data_id* for unhashable types. <br>\n",
    "A a workaround, we can wrap it inside `DictWrapper` objects:"
   ]
  },
  {
   "cell_type": "code",
   "execution_count": 443,
   "metadata": {},
   "outputs": [
    {
     "name": "stdout",
     "output_type": "stream",
     "text": [
      "Tree<'4379111888'>\n",
      "├── Node<'A', data_id=8244009354550040280>\n",
      "│   ╰── Node<\"DictWrapper<{'title': 'foo', 'id': 1}>\", data_id=4382092096>\n",
      "╰── Node<'B', data_id=6774184725397424230>\n",
      "    ╰── Node<\"DictWrapper<{'title': 'foo', 'id': 1}>\", data_id=4382092096>\n"
     ]
    }
   ],
   "source": [
    "from nutree import DictWrapper, Tree\n",
    "\n",
    "d = {\"title\": \"foo\", \"id\": 1}\n",
    "\n",
    "tree = Tree()\n",
    "tree.add(\"A\").up().add(\"B\")\n",
    "tree[\"A\"].add(DictWrapper(d))\n",
    "tree[\"B\"].add(DictWrapper(d))\n",
    "tree.print(repr=\"{node}\")\n",
    "# tree.find(d)"
   ]
  },
  {
   "cell_type": "markdown",
   "metadata": {},
   "source": [
    "## Serialization"
   ]
  },
  {
   "cell_type": "code",
   "execution_count": 444,
   "metadata": {},
   "outputs": [
    {
     "data": {
      "text/plain": [
       "[{'data': 'A',\n",
       "  'children': [{'data': \"DictWrapper<{'title': 'foo', 'id': 1}>\"}]},\n",
       " {'data': 'B',\n",
       "  'children': [{'data': \"DictWrapper<{'title': 'foo', 'id': 1}>\"}]}]"
      ]
     },
     "execution_count": 444,
     "metadata": {},
     "output_type": "execute_result"
    }
   ],
   "source": [
    "tree.to_dict_list()\n",
    "# tree.to_dict_list(mapper=lambda node, data: node.data.name)"
   ]
  },
  {
   "cell_type": "code",
   "execution_count": 445,
   "metadata": {},
   "outputs": [
    {
     "data": {
      "text/plain": [
       "[(0, 'A'), (1, {}), (0, 'B'), (3, 2)]"
      ]
     },
     "execution_count": 445,
     "metadata": {},
     "output_type": "execute_result"
    }
   ],
   "source": [
    "list(tree.to_list_iter())"
   ]
  },
  {
   "cell_type": "code",
   "execution_count": 446,
   "metadata": {},
   "outputs": [
    {
     "name": "stdout",
     "output_type": "stream",
     "text": [
      "Tree<'4379107184'>\n",
      "├── 'A'\n",
      "│   ╰── 'C'\n",
      "│       ╰── 'E'\n",
      "├── 'B'\n",
      "╰── 'D'\n"
     ]
    }
   ],
   "source": [
    "t = Tree._from_list([(0, \"A\"), (0, \"B\"), (1, \"C\"), (0, \"D\"), (3, \"E\")])\n",
    "print(t.format())"
   ]
  },
  {
   "cell_type": "markdown",
   "metadata": {},
   "source": [
    "```mermaid\n",
    "graph LR;\n",
    "    A--> B & C & D;\n",
    "    B--> A & E;\n",
    "    C--> A & E;\n",
    "    D--> A & E;\n",
    "    E--> B & C & D;\n",
    "```"
   ]
  },
  {
   "cell_type": "markdown",
   "metadata": {},
   "source": [
    "## Advanced\n",
    "\n",
    "### Chaining\n",
    "\n",
    "Some methods return a node instance, so we can chain calls. <br>\n",
    "This allows for a more compact code and avoids some temporary variables:"
   ]
  },
  {
   "cell_type": "code",
   "execution_count": 447,
   "metadata": {},
   "outputs": [
    {
     "name": "stdout",
     "output_type": "stream",
     "text": [
      "'A'\n",
      "├── 'a1'\n",
      "╰── 'a2'\n",
      "'B'\n"
     ]
    }
   ],
   "source": [
    "Tree().add(\"A\").add(\"a1\").up().add(\"a2\").up(2).add(\"B\").tree.print(title=False)"
   ]
  },
  {
   "cell_type": "code",
   "execution_count": null,
   "metadata": {},
   "outputs": [],
   "source": []
  }
 ],
 "metadata": {
  "kernelspec": {
   "display_name": ".venv",
   "language": "python",
   "name": "python3"
  },
  "language_info": {
   "codemirror_mode": {
    "name": "ipython",
    "version": 3
   },
   "file_extension": ".py",
   "mimetype": "text/x-python",
   "name": "python",
   "nbconvert_exporter": "python",
   "pygments_lexer": "ipython3",
   "version": "3.12.6"
  },
  "orig_nbformat": 4
 },
 "nbformat": 4,
 "nbformat_minor": 2
}
