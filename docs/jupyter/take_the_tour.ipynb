{
 "cells": [
  {
   "attachments": {},
   "cell_type": "markdown",
   "metadata": {},
   "source": [
    "# Take the Tour\n",
    "\n",
    "_(The tour is auto-generated from \n",
    "[this jupyter notebook](https://github.com/mar10/nutree/blob/main/docs/jupyter/take_the_tour.ipynb).)_"
   ]
  },
  {
   "cell_type": "markdown",
   "metadata": {},
   "source": [
    "Nutree organizes arbitrary object instances in an unobtrusive way. <br>\n",
    "That means, we can add existing objects without having to derive from a common \n",
    "base class or implement a specific protocol."
   ]
  },
  {
   "cell_type": "code",
   "execution_count": 1,
   "metadata": {},
   "outputs": [
    {
     "name": "stdout",
     "output_type": "stream",
     "text": [
      "Tree<'Hello'>\n",
      "├── 'N'\n",
      "│   ╰── 'u'\n",
      "╰── 'T'\n",
      "    ├── 'r'\n",
      "    ╰── 'ee'\n"
     ]
    }
   ],
   "source": [
    "from nutree import Tree\n",
    "\n",
    "tree = Tree(\"Hello\")\n",
    "tree.add(\"N\").add(\"u\").up(2).add(\"T\").add(\"r\").up().add(\"ee\")\n",
    "tree.print()"
   ]
  },
  {
   "cell_type": "markdown",
   "metadata": {},
   "source": [
    "Strings can be added to a tree, but in a real-world scenario we want need to \n",
    "handle ordinary objects:"
   ]
  },
  {
   "cell_type": "markdown",
   "metadata": {
    "slideshow": {
     "slide_type": "slide"
    }
   },
   "source": [
    "## Setup some sample classes and objects\n",
    "Let's define a simple class hierarchy"
   ]
  },
  {
   "cell_type": "code",
   "execution_count": 2,
   "metadata": {},
   "outputs": [],
   "source": [
    "import uuid\n",
    "\n",
    "\n",
    "class Department:\n",
    "    def __init__(self, name: str):\n",
    "        self.guid = uuid.uuid4()\n",
    "        self.name = name\n",
    "\n",
    "    def __str__(self):\n",
    "        return f\"Department<{self.name}>\"\n",
    "\n",
    "\n",
    "class Person:\n",
    "    def __init__(self, name: str, age: int):\n",
    "        self.guid = uuid.uuid4()\n",
    "        self.name = name\n",
    "        self.age = age\n",
    "\n",
    "    def __str__(self):\n",
    "        return f\"Person<{self.name} ({self.age})>\""
   ]
  },
  {
   "cell_type": "markdown",
   "metadata": {},
   "source": [
    "and create some instances"
   ]
  },
  {
   "cell_type": "code",
   "execution_count": 3,
   "metadata": {},
   "outputs": [],
   "source": [
    "development_dep = Department(\"Development\")\n",
    "test__dep = Department(\"Test\")\n",
    "marketing_dep = Department(\"Marketing\")\n",
    "\n",
    "alice = Person(\"Alice\", 25)\n",
    "bob = Person(\"Bob\", 35)\n",
    "claire = Person(\"Claire\", 45)\n",
    "dave = Person(\"Dave\", 55)"
   ]
  },
  {
   "attachments": {},
   "cell_type": "markdown",
   "metadata": {
    "slideshow": {
     "slide_type": "slide"
    }
   },
   "source": [
    "Now that we have a bunch of instances, let's organize these objects in a \n",
    "hierarchical structure using _nutree_:"
   ]
  },
  {
   "cell_type": "code",
   "execution_count": 4,
   "metadata": {},
   "outputs": [
    {
     "name": "stdout",
     "output_type": "stream",
     "text": [
      "Tree<'Organization'>\n",
      "├── <__main__.Department object at 0x1056fd100>\n",
      "│   ├── <__main__.Department object at 0x106249130>\n",
      "│   │   ╰── <__main__.Person object at 0x1062cf560>\n",
      "│   ╰── <__main__.Person object at 0x1062cf830>\n",
      "├── <__main__.Department object at 0x1062cfce0>\n",
      "│   ╰── <__main__.Person object at 0x105d2b770>\n",
      "╰── <__main__.Person object at 0x1062cffe0>\n"
     ]
    }
   ],
   "source": [
    "from nutree import Tree\n",
    "\n",
    "tree = Tree(\"Organization\")\n",
    "\n",
    "dev_node = tree.add(development_dep)\n",
    "test_node = dev_node.add(test__dep)\n",
    "mkt_node = tree.add(marketing_dep)\n",
    "\n",
    "tree.add(alice)\n",
    "dev_node.add(bob)\n",
    "test_node.add(claire)\n",
    "mkt_node.add(dave)\n",
    "\n",
    "tree.print()"
   ]
  },
  {
   "cell_type": "markdown",
   "metadata": {},
   "source": [
    "Tree nodes store a reference to the object in the `node.data` attribute.\n",
    "\n",
    "The nodes are formatted for display by the object's  `__repr__` implementation \n",
    "by default. <br>\n",
    "We can overide this by passing an \n",
    "[f-string](https://docs.python.org/3/tutorial/inputoutput.html#formatted-string-literals) \n",
    "as `repr` argument. <br>\n",
    "For example `\"{node.data}\"` will use the data instances `__str__` method instead:"
   ]
  },
  {
   "cell_type": "code",
   "execution_count": 5,
   "metadata": {},
   "outputs": [
    {
     "name": "stdout",
     "output_type": "stream",
     "text": [
      "Tree<'Organization'>\n",
      "├── Department<Development>\n",
      "│   ├── Department<Test>\n",
      "│   │   ╰── Person<Claire (45)>\n",
      "│   ╰── Person<Bob (35)>\n",
      "├── Department<Marketing>\n",
      "│   ╰── Person<Dave (55)>\n",
      "╰── Person<Alice (25)>\n"
     ]
    }
   ],
   "source": [
    "tree.print(repr=\"{node.data}\")"
   ]
  },
  {
   "cell_type": "markdown",
   "metadata": {},
   "source": [
    "## Access Nodes\n",
    "We can use the index syntax to get the node object for a given data object:"
   ]
  },
  {
   "cell_type": "code",
   "execution_count": 6,
   "metadata": {},
   "outputs": [
    {
     "data": {
      "text/plain": [
       "Node<'Person<Alice (25)>', data_id=274911230>"
      ]
     },
     "execution_count": 6,
     "metadata": {},
     "output_type": "execute_result"
    }
   ],
   "source": [
    "tree[alice]"
   ]
  },
  {
   "cell_type": "code",
   "execution_count": 7,
   "metadata": {},
   "outputs": [],
   "source": [
    "assert tree[alice].data is alice, \"nodes store objects in data attribute\""
   ]
  },
  {
   "cell_type": "markdown",
   "metadata": {},
   "source": [
    "## Iteration and Searching\n",
    "\n",
    "There are multiple methods to iterate the tree."
   ]
  },
  {
   "cell_type": "code",
   "execution_count": 8,
   "metadata": {},
   "outputs": [
    {
     "name": "stdout",
     "output_type": "stream",
     "text": [
      "['Development', 'Test', 'Claire', 'Bob', 'Marketing', 'Dave', 'Alice']\n"
     ]
    }
   ],
   "source": [
    "res = []\n",
    "for node in tree:  # depth-first, pre-orde traversal\n",
    "    res.append(node.data.name)\n",
    "print(res)"
   ]
  },
  {
   "cell_type": "code",
   "execution_count": 9,
   "metadata": {},
   "outputs": [
    {
     "name": "stdout",
     "output_type": "stream",
     "text": [
      "['Claire', 'Test', 'Bob', 'Development', 'Dave', 'Marketing', 'Alice']\n"
     ]
    }
   ],
   "source": [
    "from nutree import IterMethod\n",
    "\n",
    "res = []\n",
    "for node in tree.iterator(method=IterMethod.POST_ORDER):\n",
    "    res.append(node.data.name)\n",
    "print(res)"
   ]
  },
  {
   "cell_type": "code",
   "execution_count": 10,
   "metadata": {},
   "outputs": [
    {
     "name": "stdout",
     "output_type": "stream",
     "text": [
      "Development\n",
      "Marketing\n",
      "Alice\n",
      "Test\n",
      "Bob\n",
      "Dave\n",
      "Claire\n"
     ]
    }
   ],
   "source": [
    "tree.visit(lambda node, memo: print(node.data.name), method=IterMethod.LEVEL_ORDER)"
   ]
  },
  {
   "cell_type": "markdown",
   "metadata": {},
   "source": [
    "The above traversal methods are also available for single nodes:"
   ]
  },
  {
   "cell_type": "code",
   "execution_count": 11,
   "metadata": {},
   "outputs": [
    {
     "name": "stdout",
     "output_type": "stream",
     "text": [
      "['Test', 'Claire', 'Bob']\n"
     ]
    }
   ],
   "source": [
    "res = [node.data.name for node in dev_node]\n",
    "print(res)"
   ]
  },
  {
   "cell_type": "markdown",
   "metadata": {},
   "source": [
    "## Filter"
   ]
  },
  {
   "cell_type": "code",
   "execution_count": 12,
   "metadata": {},
   "outputs": [
    {
     "name": "stdout",
     "output_type": "stream",
     "text": [
      "Tree<\"Copy of Tree<'Organization'>\">\n",
      "├── Node<'Department<Development>', data_id=274136336>\n",
      "│   ╰── Node<'Department<Test>', data_id=274876691>\n",
      "╰── Node<'Department<Marketing>', data_id=274911182>\n"
     ]
    }
   ],
   "source": [
    "tree_2 = tree.copy(predicate=lambda node: isinstance(node.data, Department))\n",
    "tree_2.print(repr=\"{node}\")"
   ]
  },
  {
   "cell_type": "markdown",
   "metadata": {},
   "source": [
    "## Mutation"
   ]
  },
  {
   "cell_type": "code",
   "execution_count": 13,
   "metadata": {},
   "outputs": [
    {
     "name": "stdout",
     "output_type": "stream",
     "text": [
      "Tree<'Organization'>\n",
      "├── <__main__.Department object at 0x1056fd100>\n",
      "│   ├── <__main__.Department object at 0x106249130>\n",
      "│   │   ╰── <__main__.Person object at 0x1062cf560>\n",
      "│   ╰── <__main__.Person object at 0x1062cf830>\n",
      "├── <__main__.Department object at 0x1062cfce0>\n",
      "│   ╰── <__main__.Person object at 0x105d2b770>\n",
      "╰── <__main__.Person object at 0x1062cffe0>\n"
     ]
    }
   ],
   "source": [
    "bob_node = tree[bob]\n",
    "# bob_node.move_to(marketing_dep_node)\n",
    "tree.print()"
   ]
  },
  {
   "cell_type": "markdown",
   "metadata": {},
   "source": [
    "## Data IDs and Clones"
   ]
  },
  {
   "cell_type": "code",
   "execution_count": 14,
   "metadata": {},
   "outputs": [
    {
     "name": "stdout",
     "output_type": "stream",
     "text": [
      "Node<'Department<Development>', data_id=274136336>\n",
      "├── Node<'Department<Test>', data_id=274876691>\n",
      "│   ╰── Node<'Person<Claire (45)>', data_id=274911062>\n",
      "╰── Node<'Person<Bob (35)>', data_id=274911107>\n",
      "Node<'Department<Marketing>', data_id=274911182>\n",
      "╰── Node<'Person<Dave (55)>', data_id=274541431>\n",
      "Node<'Person<Alice (25)>', data_id=274911230>\n"
     ]
    }
   ],
   "source": [
    "tree.print(repr=\"{node}\", title=False)"
   ]
  },
  {
   "cell_type": "markdown",
   "metadata": {},
   "source": [
    "## Special Data Types\n",
    "### Plain Strings\n",
    "\n",
    "We can add simple string objects the same way as any other object"
   ]
  },
  {
   "cell_type": "code",
   "execution_count": 15,
   "metadata": {},
   "outputs": [
    {
     "name": "stdout",
     "output_type": "stream",
     "text": [
      "Tree<'4398779184'>\n",
      "├── 'A'\n",
      "│   ├── 'a1'\n",
      "│   ╰── 'a2'\n",
      "╰── 'B'\n"
     ]
    }
   ],
   "source": [
    "tree_str = Tree()\n",
    "a = tree_str.add(\"A\")\n",
    "a.add(\"a1\")\n",
    "a.add(\"a2\")\n",
    "tree_str.add(\"B\")\n",
    "tree_str.print()"
   ]
  },
  {
   "cell_type": "markdown",
   "metadata": {},
   "source": [
    "### Dictionaries\n",
    "\n",
    "We cannot add Python `dict` objects to a tree, because nutree cannot derive\n",
    "a *data_id* for unhashable types. <br>\n",
    "A a workaround, we can wrap it inside `DictWrapper` objects:"
   ]
  },
  {
   "cell_type": "code",
   "execution_count": 16,
   "metadata": {},
   "outputs": [
    {
     "name": "stdout",
     "output_type": "stream",
     "text": [
      "Tree<'4392651376'>\n",
      "├── Node<'A', data_id=-9112120580527591933>\n",
      "│   ╰── Node<\"DictWrapper<{'title': 'foo', 'id': 1}>\", data_id=4398795776>\n",
      "╰── Node<'B', data_id=-7701919551774722043>\n",
      "    ╰── Node<\"DictWrapper<{'title': 'foo', 'id': 1}>\", data_id=4398795776>\n"
     ]
    }
   ],
   "source": [
    "from nutree import DictWrapper, Tree\n",
    "\n",
    "d = {\"title\": \"foo\", \"id\": 1}\n",
    "\n",
    "tree = Tree()\n",
    "tree.add(\"A\").up().add(\"B\")\n",
    "tree[\"A\"].add(DictWrapper(d))\n",
    "tree[\"B\"].add(DictWrapper(d))\n",
    "tree.print(repr=\"{node}\")\n",
    "# tree.find(d)"
   ]
  },
  {
   "cell_type": "markdown",
   "metadata": {},
   "source": [
    "## Serialization"
   ]
  },
  {
   "cell_type": "code",
   "execution_count": 17,
   "metadata": {},
   "outputs": [
    {
     "data": {
      "text/plain": [
       "[{'data': 'A',\n",
       "  'children': [{'data': \"DictWrapper<{'title': 'foo', 'id': 1}>\"}]},\n",
       " {'data': 'B',\n",
       "  'children': [{'data': \"DictWrapper<{'title': 'foo', 'id': 1}>\"}]}]"
      ]
     },
     "execution_count": 17,
     "metadata": {},
     "output_type": "execute_result"
    }
   ],
   "source": [
    "tree.to_dict_list()\n",
    "# tree.to_dict_list(mapper=lambda node, data: node.data.name)"
   ]
  },
  {
   "cell_type": "code",
   "execution_count": 18,
   "metadata": {},
   "outputs": [
    {
     "data": {
      "text/plain": [
       "[(0, 'A'), (1, {}), (0, 'B'), (3, 2)]"
      ]
     },
     "execution_count": 18,
     "metadata": {},
     "output_type": "execute_result"
    }
   ],
   "source": [
    "list(tree.to_list_iter())"
   ]
  },
  {
   "cell_type": "code",
   "execution_count": 19,
   "metadata": {},
   "outputs": [
    {
     "name": "stdout",
     "output_type": "stream",
     "text": [
      "Tree<'4398778896'>\n",
      "├── 'A'\n",
      "│   ╰── 'C'\n",
      "│       ╰── 'E'\n",
      "├── 'B'\n",
      "╰── 'D'\n"
     ]
    }
   ],
   "source": [
    "t = Tree._from_list([(0, \"A\"), (0, \"B\"), (1, \"C\"), (0, \"D\"), (3, \"E\")])\n",
    "print(t.format())"
   ]
  },
  {
   "cell_type": "markdown",
   "metadata": {},
   "source": [
    "```mermaid\n",
    "graph LR;\n",
    "    A--> B & C & D;\n",
    "    B--> A & E;\n",
    "    C--> A & E;\n",
    "    D--> A & E;\n",
    "    E--> B & C & D;\n",
    "```"
   ]
  },
  {
   "cell_type": "markdown",
   "metadata": {},
   "source": [
    "## Advanced\n",
    "\n",
    "### Chaining\n",
    "\n",
    "Some methods return a node instance, so we can chain calls. <br>\n",
    "This allows for a more compact code and avoids some temporary variables:"
   ]
  },
  {
   "cell_type": "code",
   "execution_count": 20,
   "metadata": {},
   "outputs": [
    {
     "name": "stdout",
     "output_type": "stream",
     "text": [
      "'A'\n",
      "├── 'a1'\n",
      "╰── 'a2'\n",
      "'B'\n"
     ]
    }
   ],
   "source": [
    "Tree().add(\"A\").add(\"a1\").up().add(\"a2\").up(2).add(\"B\").tree.print(title=False)"
   ]
  },
  {
   "cell_type": "code",
   "execution_count": null,
   "metadata": {},
   "outputs": [],
   "source": []
  }
 ],
 "metadata": {
  "kernelspec": {
   "display_name": ".venv",
   "language": "python",
   "name": "python3"
  },
  "language_info": {
   "codemirror_mode": {
    "name": "ipython",
    "version": 3
   },
   "file_extension": ".py",
   "mimetype": "text/x-python",
   "name": "python",
   "nbconvert_exporter": "python",
   "pygments_lexer": "ipython3",
   "version": "3.12.6"
  },
  "orig_nbformat": 4
 },
 "nbformat": 4,
 "nbformat_minor": 2
}
