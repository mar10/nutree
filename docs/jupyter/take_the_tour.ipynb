{
 "cells": [
  {
   "attachments": {},
   "cell_type": "markdown",
   "metadata": {},
   "source": [
    "# Take the Tour\n",
    "\n",
    "_(The tour is auto-generated from \n",
    "[this jupyter notebook](https://github.com/mar10/nutree/blob/main/docs/jupyter/take_the_tour.ipynb).)_"
   ]
  },
  {
   "cell_type": "markdown",
   "metadata": {},
   "source": [
    "Nutree organizes arbitrary object instances in an unobtrusive way. <br>\n",
    "That means, we can add existing objects without having to derive from a common \n",
    "base class or implement a specific protocol."
   ]
  },
  {
   "cell_type": "code",
   "execution_count": 1,
   "metadata": {},
   "outputs": [
    {
     "name": "stdout",
     "output_type": "stream",
     "text": [
      "Tree<'Hello'>\n",
      "├── 'N'\n",
      "│   ╰── 'u'\n",
      "╰── 'T'\n",
      "    ├── 'r'\n",
      "    ╰── 'ee'\n"
     ]
    }
   ],
   "source": [
    "from nutree import Tree\n",
    "\n",
    "tree = Tree(\"Hello\")\n",
    "tree.add(\"N\").add(\"u\").up(2).add(\"T\").add(\"r\").up().add(\"ee\")\n",
    "tree.print()"
   ]
  },
  {
   "cell_type": "markdown",
   "metadata": {},
   "source": [
    "Strings can be directly added to a tree, but in a real-world scenario we want to \n",
    "handle ordinary objects:"
   ]
  },
  {
   "cell_type": "markdown",
   "metadata": {
    "slideshow": {
     "slide_type": "slide"
    }
   },
   "source": [
    "## Set up some sample classes and objects\n",
    "Let's define a simple class hierarchy"
   ]
  },
  {
   "cell_type": "code",
   "execution_count": 2,
   "metadata": {},
   "outputs": [],
   "source": [
    "import uuid\n",
    "\n",
    "\n",
    "class Department:\n",
    "    def __init__(self, name: str):\n",
    "        self.guid = uuid.uuid4()\n",
    "        self.name = name\n",
    "\n",
    "    def __str__(self):\n",
    "        return f\"Department<{self.name}>\"\n",
    "\n",
    "\n",
    "class Person:\n",
    "    def __init__(self, name: str, age: int):\n",
    "        self.guid = uuid.uuid4()\n",
    "        self.name = name\n",
    "        self.age = age\n",
    "\n",
    "    def __str__(self):\n",
    "        return f\"Person<{self.name} ({self.age})>\""
   ]
  },
  {
   "cell_type": "markdown",
   "metadata": {},
   "source": [
    "and create some instances"
   ]
  },
  {
   "cell_type": "code",
   "execution_count": 3,
   "metadata": {},
   "outputs": [],
   "source": [
    "development_dep = Department(\"Development\")\n",
    "test__dep = Department(\"Test\")\n",
    "marketing_dep = Department(\"Marketing\")\n",
    "\n",
    "alice = Person(\"Alice\", 25)\n",
    "bob = Person(\"Bob\", 35)\n",
    "claire = Person(\"Claire\", 45)\n",
    "dave = Person(\"Dave\", 55)"
   ]
  },
  {
   "attachments": {},
   "cell_type": "markdown",
   "metadata": {
    "slideshow": {
     "slide_type": "slide"
    }
   },
   "source": [
    "Now that we have a bunch of instances, let's organize these objects in a \n",
    "hierarchical structure using _nutree_:"
   ]
  },
  {
   "cell_type": "code",
   "execution_count": 4,
   "metadata": {},
   "outputs": [
    {
     "name": "stdout",
     "output_type": "stream",
     "text": [
      "Tree<'Organization'>\n",
      "├── <__main__.Department object at 0x114bc4140>\n",
      "│   ├── <__main__.Department object at 0x114bc4440>\n",
      "│   │   ╰── <__main__.Person object at 0x114bc4740>\n",
      "│   ╰── <__main__.Person object at 0x114bc46b0>\n",
      "├── <__main__.Department object at 0x114bc45f0>\n",
      "│   ╰── <__main__.Person object at 0x114bc47a0>\n",
      "╰── <__main__.Person object at 0x114bc4590>\n"
     ]
    }
   ],
   "source": [
    "from nutree import Tree\n",
    "\n",
    "tree = Tree(\"Organization\")\n",
    "\n",
    "dev_node = tree.add(development_dep)\n",
    "test_node = dev_node.add(test__dep)\n",
    "mkt_node = tree.add(marketing_dep)\n",
    "\n",
    "tree.add(alice)\n",
    "dev_node.add(bob)\n",
    "test_node.add(claire)\n",
    "mkt_node.add(dave)\n",
    "\n",
    "tree.print()"
   ]
  },
  {
   "cell_type": "markdown",
   "metadata": {},
   "source": [
    "Tree nodes store a reference to the object in the `node.data` attribute.\n",
    "\n",
    "The nodes are formatted for display by the object's  `__repr__` implementation \n",
    "by default. <br>\n",
    "We can overide this by passing an \n",
    "[f-string](https://docs.python.org/3/tutorial/inputoutput.html#formatted-string-literals) \n",
    "as `repr` argument. <br>\n",
    "For example `\"{node.data}\"` will use the data instances `__str__` method instead:"
   ]
  },
  {
   "cell_type": "code",
   "execution_count": 5,
   "metadata": {},
   "outputs": [
    {
     "name": "stdout",
     "output_type": "stream",
     "text": [
      "Tree<'Organization'>\n",
      "├── Department<Development>\n",
      "│   ├── Department<Test>\n",
      "│   │   ╰── Person<Claire (45)>\n",
      "│   ╰── Person<Bob (35)>\n",
      "├── Department<Marketing>\n",
      "│   ╰── Person<Dave (55)>\n",
      "╰── Person<Alice (25)>\n"
     ]
    }
   ],
   "source": [
    "tree.print(repr=\"{node.data}\")"
   ]
  },
  {
   "cell_type": "markdown",
   "metadata": {},
   "source": [
    "## Access Nodes\n",
    "We can use the index syntax to get the node object for a given data object:"
   ]
  },
  {
   "cell_type": "code",
   "execution_count": 6,
   "metadata": {},
   "outputs": [
    {
     "data": {
      "text/plain": [
       "Node<'Person<Alice (25)>', data_id=290178137>"
      ]
     },
     "execution_count": 6,
     "metadata": {},
     "output_type": "execute_result"
    }
   ],
   "source": [
    "tree[alice]"
   ]
  },
  {
   "cell_type": "markdown",
   "metadata": {},
   "source": [
    "Note that we passed `alice` as index, which is an instance of `Person`, and received an instance of the `Node` container:"
   ]
  },
  {
   "cell_type": "code",
   "execution_count": 7,
   "metadata": {},
   "outputs": [],
   "source": [
    "from nutree import Node\n",
    "\n",
    "assert isinstance(tree[alice], Node)\n",
    "assert tree[alice].data is alice, \"nodes store objects in data attribute\""
   ]
  },
  {
   "cell_type": "markdown",
   "metadata": {},
   "source": [
    "There are other other search methods as well"
   ]
  },
  {
   "cell_type": "code",
   "execution_count": 8,
   "metadata": {},
   "outputs": [
    {
     "data": {
      "text/plain": [
       "[Node<'Person<Claire (45)>', data_id=290178164>,\n",
       " Node<'Department<Marketing>', data_id=290178143>,\n",
       " Node<'Person<Alice (25)>', data_id=290178137>]"
      ]
     },
     "execution_count": 8,
     "metadata": {},
     "output_type": "execute_result"
    }
   ],
   "source": [
    "tree.find_all(match=lambda node: \"i\" in node.data.name)"
   ]
  },
  {
   "cell_type": "markdown",
   "metadata": {},
   "source": [
    "### Control the `data_id`\n",
    "\n",
    "If the object instances have an attribute that naturally identifies them, \n",
    "we can use it instead of the default `hash()`. <br>\n",
    "This improves readability and may be more appropriate for serialization:"
   ]
  },
  {
   "cell_type": "code",
   "execution_count": 9,
   "metadata": {},
   "outputs": [
    {
     "name": "stdout",
     "output_type": "stream",
     "text": [
      "Tree<'Organization'>\n",
      "╰── Node<'Department<Development>', data_id=1145f7c6-9a12-4110-a9f7-f84c4d53df77>\n",
      "    ╰── Node<'Person<Bob (35)>', data_id=a5adfa10-ebbb-4949-9638-6a99dab6165b>\n"
     ]
    }
   ],
   "source": [
    "tree_2 = Tree(\"Organization\", calc_data_id=lambda tree, data: str(data.guid))\n",
    "\n",
    "dep_node_2 = tree_2.add(development_dep)\n",
    "dep_node_2.add(bob)\n",
    "\n",
    "tree_2.print(repr=\"{node}\")"
   ]
  },
  {
   "cell_type": "markdown",
   "metadata": {},
   "source": [
    "now we could also search by the GUID, for example:"
   ]
  },
  {
   "cell_type": "code",
   "execution_count": 10,
   "metadata": {},
   "outputs": [
    {
     "data": {
      "text/plain": [
       "Node<'Person<Bob (35)>', data_id=a5adfa10-ebbb-4949-9638-6a99dab6165b>"
      ]
     },
     "execution_count": 10,
     "metadata": {},
     "output_type": "execute_result"
    }
   ],
   "source": [
    "tree_2.find(data_id=str(bob.guid))"
   ]
  },
  {
   "cell_type": "markdown",
   "metadata": {},
   "source": [
    "## Iteration and Searching\n",
    "\n",
    "There are multiple methods to iterate the tree."
   ]
  },
  {
   "cell_type": "code",
   "execution_count": 11,
   "metadata": {},
   "outputs": [
    {
     "name": "stdout",
     "output_type": "stream",
     "text": [
      "['Development', 'Test', 'Claire', 'Bob', 'Marketing', 'Dave', 'Alice']\n"
     ]
    }
   ],
   "source": [
    "res = []\n",
    "for node in tree:  # depth-first, pre-order traversal\n",
    "    res.append(node.data.name)\n",
    "print(res)"
   ]
  },
  {
   "cell_type": "code",
   "execution_count": 12,
   "metadata": {},
   "outputs": [
    {
     "name": "stdout",
     "output_type": "stream",
     "text": [
      "['Claire', 'Test', 'Bob', 'Development', 'Dave', 'Marketing', 'Alice']\n"
     ]
    }
   ],
   "source": [
    "from nutree import IterMethod\n",
    "\n",
    "res = []\n",
    "for node in tree.iterator(method=IterMethod.POST_ORDER):\n",
    "    res.append(node.data.name)\n",
    "print(res)"
   ]
  },
  {
   "cell_type": "code",
   "execution_count": 13,
   "metadata": {},
   "outputs": [
    {
     "name": "stdout",
     "output_type": "stream",
     "text": [
      "Development, Marketing, Alice, Test, Bob, Dave, Claire, "
     ]
    }
   ],
   "source": [
    "def callback(node, memo):\n",
    "    print(node.data.name, end=\", \")\n",
    "\n",
    "\n",
    "tree.visit(callback, method=IterMethod.LEVEL_ORDER)"
   ]
  },
  {
   "cell_type": "markdown",
   "metadata": {},
   "source": [
    "The above traversal methods are also available for single nodes:"
   ]
  },
  {
   "cell_type": "code",
   "execution_count": 14,
   "metadata": {},
   "outputs": [
    {
     "name": "stdout",
     "output_type": "stream",
     "text": [
      "['Test', 'Claire', 'Bob']\n"
     ]
    }
   ],
   "source": [
    "res = [node.data.name for node in dev_node]\n",
    "print(res)"
   ]
  },
  {
   "cell_type": "markdown",
   "metadata": {},
   "source": [
    "## Filter\n",
    "\n",
    "We can create a filtered copy like so:"
   ]
  },
  {
   "cell_type": "code",
   "execution_count": 15,
   "metadata": {},
   "outputs": [
    {
     "name": "stdout",
     "output_type": "stream",
     "text": [
      "Tree<\"Copy of Tree<'Organization'>\">\n",
      "├── Node<'Department<Development>', data_id=290178068>\n",
      "│   ╰── Node<'Department<Test>', data_id=290178116>\n",
      "╰── Node<'Department<Marketing>', data_id=290178143>\n"
     ]
    }
   ],
   "source": [
    "tree_copy = tree.filtered(lambda node: isinstance(node.data, Department))\n",
    "tree_copy.print(repr=\"{node}\")"
   ]
  },
  {
   "cell_type": "markdown",
   "metadata": {},
   "source": [
    "In-place filtering is also available:"
   ]
  },
  {
   "cell_type": "code",
   "execution_count": 16,
   "metadata": {},
   "outputs": [
    {
     "name": "stdout",
     "output_type": "stream",
     "text": [
      "Tree<\"Copy of Tree<'Organization'>\">\n",
      "├── Node<'Department<Development>', data_id=290178068>\n",
      "╰── Node<'Department<Marketing>', data_id=290178143>\n"
     ]
    }
   ],
   "source": [
    "tree_copy.filter(lambda node: \"m\" in node.data.name.lower())\n",
    "tree_copy.print(repr=\"{node}\")"
   ]
  },
  {
   "cell_type": "markdown",
   "metadata": {},
   "source": [
    "## Mutation\n",
    "\n",
    "We can add, copy, move, remove, sort, &hellip; nodes.\n",
    "\n",
    "For example:"
   ]
  },
  {
   "cell_type": "code",
   "execution_count": 17,
   "metadata": {},
   "outputs": [
    {
     "name": "stdout",
     "output_type": "stream",
     "text": [
      "Tree<'Organization'>\n",
      "├── Department<Development>\n",
      "│   ├── Department<Test>\n",
      "│   │   ╰── Person<Claire (45)>\n",
      "│   ╰── Person<Alice (25)>\n",
      "├── Department<Marketing>\n",
      "│   ├── Person<Dave (55)>\n",
      "│   ╰── Person<Bob (35)>\n",
      "╰── Person<Alice (25)>\n"
     ]
    }
   ],
   "source": [
    "alice_node = tree[alice]\n",
    "bob_node = tree[bob]\n",
    "\n",
    "bob_node.move_to(mkt_node)\n",
    "alice_node.copy_to(dev_node)\n",
    "\n",
    "tree.print(repr=\"{node.data}\")"
   ]
  },
  {
   "cell_type": "markdown",
   "metadata": {},
   "source": [
    "Read the [user guide](https://nutree.readthedocs.io/en/latest/ug_mutation.html) \n",
    "for more ways to modify a tree."
   ]
  },
  {
   "cell_type": "markdown",
   "metadata": {},
   "source": [
    "## Data IDs and Clones\n",
    "\n",
    "In the example above, we duplicated the 'Alice' node, so we now have two \n",
    "node instances that reference the same data object, as we can see from the\n",
    "identical data_id:"
   ]
  },
  {
   "cell_type": "code",
   "execution_count": 18,
   "metadata": {},
   "outputs": [
    {
     "name": "stdout",
     "output_type": "stream",
     "text": [
      "Node<'Department<Development>', data_id=290178068>\n",
      "├── Node<'Department<Test>', data_id=290178116>\n",
      "│   ╰── Node<'Person<Claire (45)>', data_id=290178164>\n",
      "╰── Node<'Person<Alice (25)>', data_id=290178137>\n",
      "Node<'Department<Marketing>', data_id=290178143>\n",
      "├── Node<'Person<Dave (55)>', data_id=290178170>\n",
      "╰── Node<'Person<Bob (35)>', data_id=290178155>\n",
      "Node<'Person<Alice (25)>', data_id=290178137>\n"
     ]
    }
   ],
   "source": [
    "tree.print(repr=\"{node}\", title=False)"
   ]
  },
  {
   "cell_type": "code",
   "execution_count": 19,
   "metadata": {},
   "outputs": [
    {
     "name": "stdout",
     "output_type": "stream",
     "text": [
      "Node<'Person<Alice (25)>', data_id=290178137>, parent=None\n",
      "Node<'Person<Alice (25)>', data_id=290178137>, parent=Node<'Department<Development>', data_id=290178068>\n"
     ]
    }
   ],
   "source": [
    "for clone in tree.find_all(alice):\n",
    "    print(f\"{clone}, parent={clone.parent}\")"
   ]
  },
  {
   "cell_type": "markdown",
   "metadata": {},
   "source": [
    "## Special Data Types\n",
    "### Plain Strings\n",
    "\n",
    "Plain strings are hashable objects, so we can handle them the same way as any \n",
    "other object:"
   ]
  },
  {
   "cell_type": "code",
   "execution_count": 20,
   "metadata": {},
   "outputs": [
    {
     "name": "stdout",
     "output_type": "stream",
     "text": [
      "Tree<'4642856144'>\n",
      "├── 'A'\n",
      "│   ├── 'a1'\n",
      "│   ╰── 'a2'\n",
      "╰── 'B'\n"
     ]
    }
   ],
   "source": [
    "tree_str = Tree()\n",
    "a = tree_str.add(\"A\")\n",
    "a.add(\"a1\")\n",
    "a.add(\"a2\")\n",
    "tree_str.add(\"B\")\n",
    "tree_str.print()"
   ]
  },
  {
   "cell_type": "markdown",
   "metadata": {},
   "source": [
    "### Dictionaries\n",
    "\n",
    "We cannot add Python `dict` objects to a tree, because nutree cannot derive\n",
    "a *data_id* for unhashable types. <br>\n",
    "We can handle this by passing a *data_id* explicitly to `add()` and similar \n",
    "methods, or implement a `calc_data_id` callback as shown before.\n",
    "\n",
    "As another workaround, we can wrap it inside `DictWrapper` objects:"
   ]
  },
  {
   "cell_type": "code",
   "execution_count": 21,
   "metadata": {},
   "outputs": [
    {
     "name": "stdout",
     "output_type": "stream",
     "text": [
      "Tree<'4626598512'>\n",
      "├── Node<'A', data_id=5473560910289120105>\n",
      "│   ╰── Node<\"DictWrapper<{'title': 'foo', 'id': 1}>\", data_id=4628284480>\n",
      "╰── Node<'B', data_id=5825221258629577999>\n",
      "    ╰── Node<\"DictWrapper<{'title': 'foo', 'id': 1}>\", data_id=4628284480>\n"
     ]
    }
   ],
   "source": [
    "from nutree import DictWrapper, Tree\n",
    "\n",
    "d = {\"title\": \"foo\", \"id\": 1}\n",
    "\n",
    "tree = Tree()\n",
    "tree.add(\"A\").up().add(\"B\")\n",
    "tree[\"A\"].add(DictWrapper(d))\n",
    "tree[\"B\"].add(DictWrapper(d))\n",
    "tree.print(repr=\"{node}\")\n",
    "# tree.find(d)"
   ]
  },
  {
   "cell_type": "markdown",
   "metadata": {},
   "source": [
    "## Typed Trees\n",
    "\n",
    "The `TypedTree` subclass adds a 'kind' attribute to the nodes, and related \n",
    "methods. <br>\n",
    "This allows to organize objects in directed graphs:"
   ]
  },
  {
   "cell_type": "code",
   "execution_count": 22,
   "metadata": {},
   "outputs": [
    {
     "name": "stdout",
     "output_type": "stream",
     "text": [
      "TypedTree<'4626500208'>\n",
      "╰── friend → Mia\n",
      "    ├── brother → Noah\n",
      "    ╰── sister → Olivia\n"
     ]
    }
   ],
   "source": [
    "from nutree import TypedTree\n",
    "\n",
    "typed_tree = TypedTree()\n",
    "typed_tree.add(\"Mia\", kind=\"friend\").add(\"Noah\", kind=\"brother\").up().add(\n",
    "    \"Olivia\", kind=\"sister\"\n",
    ")\n",
    "typed_tree.print()"
   ]
  },
  {
   "cell_type": "markdown",
   "metadata": {},
   "source": [
    "## Serialization\n",
    "\n",
    "Nutree supports save/load in a compact native JSON format as well as \n",
    "ZIP, RDF, DOT, and mermaid. <br>\n",
    "Even conversion to and SVG, PNG is possible:\n",
    "\n",
    "![example](../sphinx/test_mermaid_typed.png)\n",
    "\n",
    "Read the [User Guide](https://nutree.readthedocs.io/en/latest/ug_serialize.html) \n",
    "for different methods to save, load, or convert a tree to different output formats."
   ]
  },
  {
   "cell_type": "markdown",
   "metadata": {},
   "source": [
    "# Type Hints\n",
    "\n",
    "Nutree comes fully typed (passing [pyright](https://microsoft.github.io/pyright/#/) \n",
    "standard checks). This improves type-safety and auto-complete features inside \n",
    "IDEs.\n",
    "\n",
    "Assuming we have a hierrchy of objects:"
   ]
  },
  {
   "cell_type": "code",
   "execution_count": 23,
   "metadata": {},
   "outputs": [],
   "source": [
    "class OrgaEntry:\n",
    "    def __init__(self, name: str):\n",
    "        self.name: str = name\n",
    "        self.guid = uuid.uuid4()\n",
    "\n",
    "\n",
    "class Person(OrgaEntry):\n",
    "    def __init__(self, name: str, age: int):\n",
    "        super().__init__(name)\n",
    "        self.age: int = age\n",
    "\n",
    "\n",
    "class Department(OrgaEntry):\n",
    "    def __init__(self, name: str):\n",
    "        super().__init__(name)"
   ]
  },
  {
   "cell_type": "markdown",
   "metadata": {},
   "source": [
    "We can now create a type-safe tree to store these objects:"
   ]
  },
  {
   "cell_type": "code",
   "execution_count": 24,
   "metadata": {},
   "outputs": [
    {
     "name": "stdout",
     "output_type": "stream",
     "text": [
      "b871d538-8505-464c-992f-a1bf6a781711\n"
     ]
    }
   ],
   "source": [
    "tree = Tree[OrgaEntry]()\n",
    "\n",
    "dev = tree.add(Department(\"Development\"))\n",
    "alice = dev.add(Person(\"Alice\", 25))\n",
    "\n",
    "tree.add(42)  # Flags a typing error in the IDE (but not at runtime)\n",
    "\n",
    "# IDE infers that the type `OrgaEntry` is stored in the `data` attribute\n",
    "# and provides code completion\n",
    "print(alice.data.guid)"
   ]
  }
 ],
 "metadata": {
  "kernelspec": {
   "display_name": ".venv",
   "language": "python",
   "name": "python3"
  },
  "language_info": {
   "codemirror_mode": {
    "name": "ipython",
    "version": 3
   },
   "file_extension": ".py",
   "mimetype": "text/x-python",
   "name": "python",
   "nbconvert_exporter": "python",
   "pygments_lexer": "ipython3",
   "version": "3.12.6"
  },
  "orig_nbformat": 4
 },
 "nbformat": 4,
 "nbformat_minor": 2
}
