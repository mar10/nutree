{
 "cells": [
  {
   "attachments": {},
   "cell_type": "markdown",
   "metadata": {},
   "source": [
    "# Nutree Overview"
   ]
  },
  {
   "cell_type": "markdown",
   "metadata": {},
   "source": [
    "Nutree organizes arbitrary object instances in an unobtrusive way. <br>\n",
    "That means, we can add existing objects without having to derive from a common \n",
    "base class or implement a specific protocol."
   ]
  },
  {
   "cell_type": "markdown",
   "metadata": {
    "slideshow": {
     "slide_type": "slide"
    }
   },
   "source": [
    "# Setup some sample classes and objects"
   ]
  },
  {
   "cell_type": "code",
   "execution_count": 2,
   "metadata": {},
   "outputs": [],
   "source": [
    "import uuid\n",
    "\n",
    "\n",
    "class Department:\n",
    "    def __init__(self, name: str):\n",
    "        self.guid = uuid.uuid4()\n",
    "        self.name = name\n",
    "\n",
    "    def __str__(self):\n",
    "        return f\"Department<{self.name}>\"\n",
    "\n",
    "\n",
    "class Person:\n",
    "    def __init__(self, name: str, age: int):\n",
    "        self.guid = uuid.uuid4()\n",
    "        self.name = name\n",
    "        self.age = age\n",
    "\n",
    "    def __str__(self):\n",
    "        return f\"Person<{self.name} ({self.age})>\""
   ]
  },
  {
   "cell_type": "markdown",
   "metadata": {},
   "source": [
    "Now create some instances"
   ]
  },
  {
   "cell_type": "code",
   "execution_count": 3,
   "metadata": {},
   "outputs": [],
   "source": [
    "development_dep = Department(\"Development\")\n",
    "test__dep = Department(\"Test\")\n",
    "marketing_dep = Department(\"Marketing\")\n",
    "\n",
    "alice = Person(\"Alice\", 25)\n",
    "bob = Person(\"Bob\", 35)\n",
    "claire = Person(\"Claire\", 45)\n",
    "dave = Person(\"Dave\", 55)"
   ]
  },
  {
   "attachments": {},
   "cell_type": "markdown",
   "metadata": {
    "slideshow": {
     "slide_type": "slide"
    }
   },
   "source": [
    "Let's organize these objects in a hierarchical structure:"
   ]
  },
  {
   "cell_type": "code",
   "execution_count": 4,
   "metadata": {},
   "outputs": [
    {
     "name": "stdout",
     "output_type": "stream",
     "text": [
      "Tree<'Organization'>\n",
      "├── <__main__.Department object at 0x1072ef050>\n",
      "│   ├── <__main__.Department object at 0x1072bd9a0>\n",
      "│   │   ╰── <__main__.Person object at 0x1074dd790>\n",
      "│   ╰── <__main__.Person object at 0x1072ef770>\n",
      "├── <__main__.Department object at 0x1072eed50>\n",
      "│   ╰── <__main__.Person object at 0x1074dc320>\n",
      "╰── <__main__.Person object at 0x1072ef500>\n"
     ]
    }
   ],
   "source": [
    "from nutree import Tree\n",
    "\n",
    "tree = Tree(\"Organization\")\n",
    "\n",
    "dev_node = tree.add(development_dep)\n",
    "test_node = dev_node.add(test__dep)\n",
    "mkt_node = tree.add(marketing_dep)\n",
    "\n",
    "tree.add(alice)\n",
    "dev_node.add(bob)\n",
    "test_node.add(claire)\n",
    "mkt_node.add(dave)\n",
    "\n",
    "tree.print()"
   ]
  },
  {
   "cell_type": "markdown",
   "metadata": {},
   "source": [
    "Tree nodes store a reference to the object in the `node.data` attribute.\n",
    "\n",
    "The nodes are formatted by the object's  `__repr__` implementation by default. <br>\n",
    "We can overide this by passing an f-string as `repr` argument:"
   ]
  },
  {
   "cell_type": "code",
   "execution_count": 5,
   "metadata": {},
   "outputs": [
    {
     "name": "stdout",
     "output_type": "stream",
     "text": [
      "Tree<'Organization'>\n",
      "├── Department<Development>\n",
      "│   ├── Department<Test>\n",
      "│   │   ╰── Person<Claire (45)>\n",
      "│   ╰── Person<Bob (35)>\n",
      "├── Department<Marketing>\n",
      "│   ╰── Person<Dave (55)>\n",
      "╰── Person<Alice (25)>\n"
     ]
    }
   ],
   "source": [
    "tree.print(repr=\"{node.data}\")"
   ]
  },
  {
   "cell_type": "markdown",
   "metadata": {},
   "source": []
  },
  {
   "cell_type": "markdown",
   "metadata": {},
   "source": [
    "## Special Data Types\n",
    "\n",
    "### Plain Strings\n",
    "\n",
    "We can add simple string objects the same way as any other object\n",
    "(Note also, how we make use of code chaining in this example):"
   ]
  },
  {
   "cell_type": "code",
   "execution_count": 13,
   "metadata": {},
   "outputs": [
    {
     "name": "stdout",
     "output_type": "stream",
     "text": [
      "Tree<'4578652576'>\n",
      "╰── 'A'\n",
      "    ├── 'a1'\n",
      "    ╰── 'a2'\n",
      "        ╰── 'B'\n"
     ]
    }
   ],
   "source": [
    "tree = Tree()\n",
    "tree.add(\"A\").add(\"a1\").up().add(\"a2\").up(-1).add(\"B\")\n",
    "tree.print()"
   ]
  },
  {
   "cell_type": "code",
   "execution_count": 11,
   "metadata": {},
   "outputs": [
    {
     "name": "stdout",
     "output_type": "stream",
     "text": [
      "Tree<'4572026816'>\n",
      "├── 'A'\n",
      "│   ├── 'a1'\n",
      "│   ╰── 'a2'\n",
      "╰── 'B'\n"
     ]
    }
   ],
   "source": [
    "Tree().add(\"A\").add(\"a1\").up().add(\"a2\").up(2).add(\"B\").tree.print()"
   ]
  },
  {
   "cell_type": "code",
   "execution_count": 7,
   "metadata": {},
   "outputs": [
    {
     "name": "stdout",
     "output_type": "stream",
     "text": [
      "Tree<'4571953776'>\n",
      "├── 'A'\n",
      "│   ╰── 'C'\n",
      "│       ╰── 'E'\n",
      "├── 'B'\n",
      "╰── 'D'\n"
     ]
    }
   ],
   "source": [
    "t = Tree._from_list([(0, \"A\"), (0, \"B\"), (1, \"C\"), (0, \"D\"), (3, \"E\")])\n",
    "print(t.format())"
   ]
  },
  {
   "cell_type": "markdown",
   "metadata": {},
   "source": [
    "# Access Nodes\n",
    "We can use the index syntax to get the node object for a given data object:"
   ]
  },
  {
   "cell_type": "code",
   "execution_count": 8,
   "metadata": {},
   "outputs": [
    {
     "ename": "KeyError",
     "evalue": "'<__main__.Person object at 0x1072ef500>'",
     "output_type": "error",
     "traceback": [
      "\u001b[0;31m---------------------------------------------------------------------------\u001b[0m",
      "\u001b[0;31mKeyError\u001b[0m                                  Traceback (most recent call last)",
      "Cell \u001b[0;32mIn[8], line 1\u001b[0m\n\u001b[0;32m----> 1\u001b[0m \u001b[43mtree\u001b[49m\u001b[43m[\u001b[49m\u001b[43malice\u001b[49m\u001b[43m]\u001b[49m\n",
      "File \u001b[0;32m~/prj/git/nutree/nutree/tree.py:167\u001b[0m, in \u001b[0;36mTree.__getitem__\u001b[0;34m(self, data)\u001b[0m\n\u001b[1;32m    164\u001b[0m     res \u001b[38;5;241m=\u001b[39m \u001b[38;5;28mself\u001b[39m\u001b[38;5;241m.\u001b[39mfind_all(data)\n\u001b[1;32m    166\u001b[0m \u001b[38;5;28;01mif\u001b[39;00m \u001b[38;5;129;01mnot\u001b[39;00m res:\n\u001b[0;32m--> 167\u001b[0m     \u001b[38;5;28;01mraise\u001b[39;00m \u001b[38;5;167;01mKeyError\u001b[39;00m(\u001b[38;5;124mf\u001b[39m\u001b[38;5;124m\"\u001b[39m\u001b[38;5;132;01m{\u001b[39;00mdata\u001b[38;5;132;01m!r}\u001b[39;00m\u001b[38;5;124m\"\u001b[39m)\n\u001b[1;32m    168\u001b[0m \u001b[38;5;28;01melif\u001b[39;00m \u001b[38;5;28mlen\u001b[39m(res) \u001b[38;5;241m>\u001b[39m \u001b[38;5;241m1\u001b[39m:\n\u001b[1;32m    169\u001b[0m     \u001b[38;5;28;01mraise\u001b[39;00m AmbiguousMatchError(\n\u001b[1;32m    170\u001b[0m         \u001b[38;5;124mf\u001b[39m\u001b[38;5;124m\"\u001b[39m\u001b[38;5;132;01m{\u001b[39;00mdata\u001b[38;5;132;01m!r}\u001b[39;00m\u001b[38;5;124m has \u001b[39m\u001b[38;5;132;01m{\u001b[39;00m\u001b[38;5;28mlen\u001b[39m(res)\u001b[38;5;132;01m}\u001b[39;00m\u001b[38;5;124m occurrences. \u001b[39m\u001b[38;5;124m\"\u001b[39m\n\u001b[1;32m    171\u001b[0m         \u001b[38;5;124m\"\u001b[39m\u001b[38;5;124mUse tree.find_all() or tree.find_first() to resolve this.\u001b[39m\u001b[38;5;124m\"\u001b[39m\n\u001b[1;32m    172\u001b[0m     )\n",
      "\u001b[0;31mKeyError\u001b[0m: '<__main__.Person object at 0x1072ef500>'"
     ]
    }
   ],
   "source": [
    "tree[alice]"
   ]
  },
  {
   "cell_type": "code",
   "execution_count": 29,
   "metadata": {},
   "outputs": [],
   "source": [
    "assert tree[alice].data is alice, \"nodes store objects in data attribute\"\n",
    "alice_guid = alice.guid"
   ]
  },
  {
   "cell_type": "markdown",
   "metadata": {},
   "source": [
    "# Add "
   ]
  },
  {
   "cell_type": "markdown",
   "metadata": {},
   "source": [
    "# Iteration and Searching\n",
    "\n",
    "There are multiple methods to iterate the tree."
   ]
  },
  {
   "cell_type": "code",
   "execution_count": 24,
   "metadata": {},
   "outputs": [
    {
     "name": "stdout",
     "output_type": "stream",
     "text": [
      "['Development', 'Test', 'Claire', 'Bob', 'Marketing', 'Dave', 'Alice']\n"
     ]
    }
   ],
   "source": [
    "res = []\n",
    "for node in tree:\n",
    "    res.append(node.data.name)\n",
    "print(res)"
   ]
  },
  {
   "cell_type": "markdown",
   "metadata": {},
   "source": [
    "# Mutation"
   ]
  },
  {
   "cell_type": "markdown",
   "metadata": {},
   "source": [
    "# Data IDs and Clones"
   ]
  },
  {
   "cell_type": "code",
   "execution_count": 14,
   "metadata": {},
   "outputs": [
    {
     "name": "stdout",
     "output_type": "stream",
     "text": [
      "Node<'Department<Development>', data_id=275672681>\n",
      "├── Node<'Department<Test>', data_id=275672420>\n",
      "│   ╰── Node<'Person<Claire (45)>', data_id=275672729>\n",
      "╰── Node<'Person<Bob (35)>', data_id=275266336>\n",
      "Node<'Department<Marketing>', data_id=275672447>\n",
      "╰── Node<'Person<Dave (55)>', data_id=275672171>\n",
      "Node<'Person<Alice (25)>', data_id=275672678>\n"
     ]
    }
   ],
   "source": [
    "tree.print(repr=\"{node}\", title=False)"
   ]
  },
  {
   "cell_type": "markdown",
   "metadata": {},
   "source": [
    "# Serialization"
   ]
  },
  {
   "cell_type": "code",
   "execution_count": 15,
   "metadata": {},
   "outputs": [
    {
     "data": {
      "text/plain": [
       "[{'data': 'Department<Development>',\n",
       "  'children': [{'data': 'Department<Test>',\n",
       "    'children': [{'data': 'Person<Claire (45)>'}]},\n",
       "   {'data': 'Person<Bob (35)>'}]},\n",
       " {'data': 'Department<Marketing>',\n",
       "  'children': [{'data': 'Person<Dave (55)>'}]},\n",
       " {'data': 'Person<Alice (25)>'}]"
      ]
     },
     "execution_count": 15,
     "metadata": {},
     "output_type": "execute_result"
    }
   ],
   "source": [
    "tree.to_dict_list()"
   ]
  },
  {
   "cell_type": "code",
   "execution_count": 16,
   "metadata": {},
   "outputs": [
    {
     "data": {
      "text/plain": [
       "[(0, {}), (1, {}), (2, {}), (1, {}), (0, {}), (5, {}), (0, {})]"
      ]
     },
     "execution_count": 16,
     "metadata": {},
     "output_type": "execute_result"
    }
   ],
   "source": [
    "list(tree.to_list_iter())"
   ]
  },
  {
   "cell_type": "code",
   "execution_count": null,
   "metadata": {},
   "outputs": [],
   "source": []
  },
  {
   "cell_type": "code",
   "execution_count": null,
   "metadata": {},
   "outputs": [],
   "source": []
  }
 ],
 "metadata": {
  "kernelspec": {
   "display_name": ".venv",
   "language": "python",
   "name": "python3"
  },
  "language_info": {
   "codemirror_mode": {
    "name": "ipython",
    "version": 3
   },
   "file_extension": ".py",
   "mimetype": "text/x-python",
   "name": "python",
   "nbconvert_exporter": "python",
   "pygments_lexer": "ipython3",
   "version": "3.12.6"
  },
  "orig_nbformat": 4
 },
 "nbformat": 4,
 "nbformat_minor": 2
}
